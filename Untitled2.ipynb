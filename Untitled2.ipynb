{
 "cells": [
  {
   "cell_type": "code",
   "execution_count": 140,
   "metadata": {},
   "outputs": [],
   "source": [
    "import numpy as np\n",
    "from open3d import *\n",
    "import copy\n",
    "import time\n",
    "          "
   ]
  },
  {
   "cell_type": "code",
   "execution_count": 141,
   "metadata": {},
   "outputs": [],
   "source": [
    "def iVal(pcd,pcd2):\n",
    "    \n",
    "    # temp = np.asarray(pcd.colors)[:,0]*255/16\n",
    "    # label = temp.astype(\"uint8\")\n",
    "    label = np.asarray(pcd.colors)[:,0]*255/16\n",
    "    label = np.around(label,decimals=0)\n",
    "#     print(np.unique(label,return_counts=True))\n",
    "    label = label.astype(\"uint8\")\n",
    "#     print(np.unique(label,return_counts=True))\n",
    "    rgbcolor = np.asarray(pcd2.colors)\n",
    "    rgbpoints = np.asarray(pcd2.points)\n",
    "    rgbarray = np.concatenate((rgbcolor,rgbpoints),axis = 1)\n",
    "\n",
    "    # np_rgb = np.concatenate(\n",
    "    #     (np.asarray(pcd2.points),np.asarray(pcd2.colors)),axis = 1)\n",
    "\n",
    "    return label,rgbarray"
   ]
  },
  {
   "cell_type": "code",
   "execution_count": 142,
   "metadata": {},
   "outputs": [],
   "source": [
    "def objectList(label,rgbarray):\n",
    "    \n",
    "\n",
    "    # rgbcolor = np.asarray(rgb.colors)\n",
    "    # rgbpoints = np.asarray(rgb.points)\n",
    "    # rgbarray = np.concatenate((rgbcolor,rgbpoints),axis = 1)\n",
    "\n",
    "    # print(np.unique(npseg))\n",
    "    labelcount = np.unique(label).astype(\"uint8\")\n",
    "    \n",
    "    newset = [[] for i in range(len(labelcount))]\n",
    "#     print(newset)\n",
    "    # print(rgbarray)\n",
    "    for id1,pixels in enumerate(label):\n",
    "                \n",
    "        newset[pixels-1].append(rgbarray[id1])\n",
    "\n",
    "                \n",
    "    return newset\n"
   ]
  },
  {
   "cell_type": "code",
   "execution_count": 143,
   "metadata": {},
   "outputs": [],
   "source": [
    "def array2PC(abcd):\n",
    "    abc = PointCloud()\n",
    "    \n",
    "    abcd = np.asarray(abcd)\n",
    "\n",
    "    x = np.array_split(abcd,2,axis = 1)\n",
    "    # print (np.asarray(x).shape)\n",
    "    #     print(x[0])\n",
    "    # x[1] = x[1]*16/255\n",
    "    abc.points = Vector3dVector(x[1])\n",
    "    abc.colors = Vector3dVector(x[0])\n",
    "    return abc"
   ]
  },
  {
   "cell_type": "code",
   "execution_count": 144,
   "metadata": {},
   "outputs": [],
   "source": [
    "def draw_registration_result(source, target, transformation):\n",
    "    source_temp = copy.deepcopy(source)\n",
    "    target_temp = copy.deepcopy(target)\n",
    "    source_temp.transform(transformation)\n",
    "    draw_geometries([source_temp, target_temp])\n",
    "\n"
   ]
  },
  {
   "cell_type": "code",
   "execution_count": 145,
   "metadata": {},
   "outputs": [],
   "source": [
    "def preprocess_point_cloud(pcd, voxel_size):\n",
    "    pcd_down = voxel_down_sample(pcd, voxel_size)\n",
    "\n",
    "    radius_normal = voxel_size * 2\n",
    "    estimate_normals(pcd_down, KDTreeSearchParamHybrid(\n",
    "            radius = radius_normal, max_nn = 30))\n",
    "\n",
    "    radius_feature = voxel_size * 5\n",
    "    pcd_fpfh = compute_fpfh_feature(pcd_down,\n",
    "            KDTreeSearchParamHybrid(radius = radius_feature, max_nn = 100))\n",
    "    return pcd_down, pcd_fpfh, radius_normal\n",
    "\n"
   ]
  },
  {
   "cell_type": "code",
   "execution_count": 146,
   "metadata": {},
   "outputs": [],
   "source": [
    "def prepare_dataset(voxel_size, source, target):\n",
    "\n",
    "    source_down, source_fpfh, radius = preprocess_point_cloud(source, voxel_size)\n",
    "    target_down, target_fpfh, _ = preprocess_point_cloud(target, voxel_size)\n",
    "    return source, target, source_down, target_down, source_fpfh, target_fpfh, radius\n",
    "\n"
   ]
  },
  {
   "cell_type": "code",
   "execution_count": 147,
   "metadata": {},
   "outputs": [],
   "source": [
    "def execute_global_registration(\n",
    "        source_down, target_down, source_fpfh, target_fpfh, voxel_size):\n",
    "    distance_threshold = voxel_size * 1.5\n",
    "    result = registration_ransac_based_on_feature_matching(\n",
    "            source_down, target_down, source_fpfh, target_fpfh,\n",
    "            distance_threshold,\n",
    "            TransformationEstimationPointToPoint(False), 4,\n",
    "            [CorrespondenceCheckerBasedOnEdgeLength(0.9),\n",
    "            CorrespondenceCheckerBasedOnDistance(distance_threshold)],\n",
    "            RANSACConvergenceCriteria(4000000, 500))\n",
    "    return result\n",
    "\n"
   ]
  },
  {
   "cell_type": "code",
   "execution_count": 148,
   "metadata": {},
   "outputs": [],
   "source": [
    "def execute_fast_global_registration(source_down, target_down,\n",
    "        source_fpfh, target_fpfh, voxel_size):\n",
    "    distance_threshold = voxel_size * 0.5\n",
    "    result = registration_fast_based_on_feature_matching(\n",
    "            source_down, target_down, source_fpfh, target_fpfh,\n",
    "            FastGlobalRegistrationOption(\n",
    "            maximum_correspondence_distance = distance_threshold))\n",
    "    return result\n",
    "\n"
   ]
  },
  {
   "cell_type": "code",
   "execution_count": 149,
   "metadata": {},
   "outputs": [],
   "source": [
    "def refine_registration(source, target, source_fpfh, target_fpfh, voxel_size,radius,roughTrans):\n",
    "    distance_threshold = voxel_size * 0.4\n",
    "    result = registration_icp(source, target, distance_threshold,\n",
    "            roughTrans,\n",
    "            TransformationEstimationPointToPlane())\n",
    "    return result"
   ]
  },
  {
   "cell_type": "code",
   "execution_count": 150,
   "metadata": {},
   "outputs": [],
   "source": [
    "def base(voxel_size,source,target):\n",
    "    source, target, source_down, target_down, source_fpfh, target_fpfh, radius = \\\n",
    "            prepare_dataset(voxel_size,source,target)\n",
    "\n",
    "    result_ransac = execute_fast_global_registration(source_down, target_down,\n",
    "            source_fpfh, target_fpfh, voxel_size)\n",
    "#     print(result_ransac)\n",
    "#     draw_registration_result(source_down, target_down,\n",
    "#             result_ransac.transformation)\n",
    "\n",
    "    result_icp = refine_registration(source_down, target_down,\n",
    "            source_fpfh, target_fpfh, voxel_size, radius,result_ransac.transformation)\n",
    "    \n",
    "    theta_x = np.arctan(result_icp.transformation[2,1]/result_icp.transformation[2,2])\n",
    "    theta_y = -np.arcsin(result_icp.transformation[2,0])\n",
    "    theta_z = np.arctan(result_icp.transformation[1,0]/result_icp.transformation[0,0])\n",
    "    translation = result_icp.transformation[:3,3]\n",
    "    # print(result_icp)\n",
    "    # draw_registration_result(source, target, result_icp.transformation)\n",
    "\n",
    "    return result_icp,theta_x,theta_y,theta_z,translation\n",
    "\n",
    "\n",
    "\n",
    "\n",
    "    \n",
    "\n",
    "\n",
    "    \n",
    "\n",
    "    \n"
   ]
  },
  {
   "cell_type": "code",
   "execution_count": 151,
   "metadata": {},
   "outputs": [],
   "source": [
    "def maxTrans(abc):\n",
    "    cde=np.asarray(abc.points)\n",
    "# print(cde)\n",
    "# print(cde[:,0])\n",
    "    minx = np.amin(cde[:,0])\n",
    "    miny = np.amin(cde[:,1])\n",
    "    minz = np.amin(cde[:,2])\n",
    "\n",
    "    maxx = np.amax(cde[:,0])\n",
    "    maxy = np.amax(cde[:,1])\n",
    "    maxz = np.amax(cde[:,2])\n",
    "    \n",
    "    eud = [maxx-minx,maxy-miny,maxz-minz]\n",
    "#     eud = np.sqrt((maxx-minx)**2+(maxy-miny)**2+(maxz-minz)**2)\n",
    "    return eud\n",
    "\n",
    "\n"
   ]
  },
  {
   "cell_type": "code",
   "execution_count": 152,
   "metadata": {},
   "outputs": [],
   "source": [
    "# def process1(seg1,seg2,rgb1,rgb2):    # voxel_size = 0.003 # means 5cm for the dataset\n",
    "\n",
    "#     label1,rgbArray1 = iVal(seg1,rgb1)\n",
    "#     label2,rgbArray2 = iVal(seg2,rgb2)\n",
    "#     voxel_size = 0.2 # means 5cm for the dataset\n",
    "\n",
    "#     start2 = time.time()\n",
    "    #list wrt labels of objects\n",
    "#     objectst1 = objectList(label1,rgbArray1)\n",
    "#     objectst2 = objectList(label2,rgbArray2)\n",
    "#     print(\"objectGen \",time.time()-start2)\n",
    "def process1(objectst1PC,objectst2PC):\n",
    "#     voxel_size = 0.03\n",
    "    #list wrt label of object PC for diff timesteps : objectst1PC, objectst2PC\n",
    "#     objectst1PC = [[] for i in range(len(objectst1))]\n",
    "#     objectst2PC = [[] for i in range(len(objectst2))]\n",
    "#     x = [[] for i in range(len(objectst1PC[0]))]\n",
    "#     y = [[] for i in range(len(objectst1PC[0]))]\n",
    "#     z = [[] for i in range(len(objectst1PC[0]))]\n",
    "#     t = [[] for i in range(len(objectst1PC[0]))]\n",
    "#     print(\"new\")\n",
    "#     start1 = time.time()\n",
    "    x = []\n",
    "    y = []\n",
    "    z = []\n",
    "    t = []\n",
    "    for i in range(len((objectst1PC))):\n",
    "#         print(i)\n",
    "#         start1 = time.time()\n",
    "#         objectst1PC[i].append(array2PC(objectst1[i]))\n",
    "    # for i in range(len(objectst2)):\n",
    "#         objectst2PC[i].append(array2PC(objectst2[i]))\n",
    "#         print(time.time()-start1)\n",
    "#         print(np.asarray(objectst2PC[i]))\n",
    "\n",
    "        #xyzt list wrt objects\n",
    "        _,x1,y1,z1,t1 = base(voxel_size,objectst1PC[i],objectst2PC[i])\n",
    "        x.append(x1)\n",
    "        y.append(y1)\n",
    "        z.append(z1)\n",
    "        t.append(t1)\n",
    "#         x.append((base(voxel_size,objectst1PC[i],objectst2PC[i]))[1])\n",
    "#         y.append((base(voxel_size,objectst1PC[i],objectst2PC[i]))[2])\n",
    "#         z.append((base(voxel_size,objectst1PC[i],objectst2PC[i]))[3])\n",
    "#         t.append((base(voxel_size,objectst1PC[i],objectst2PC[i]))[4])\n",
    "#         print(time.time()-start1)\n",
    "#         print(time.time()-start)\n",
    "    return x,y,z,t\n",
    "\n"
   ]
  },
  {
   "cell_type": "code",
   "execution_count": 164,
   "metadata": {},
   "outputs": [],
   "source": [
    "def entropyExt(x,y):\n",
    "    x = np.absolute(x)\n",
    "    xprob = np.asarray(x)/y\n",
    "    hx = xprob*np.where(xprob>0,np.log2(xprob),0)\n",
    "#     hx = (np.log2((2*xprob)+1))\n",
    "#     for idx,value in enumerate(hx):\n",
    "#         if value>1:\n",
    "#             hx[idx] = 0\n",
    "    hx = -sum(hx)\n",
    "    return hx\n"
   ]
  },
  {
   "cell_type": "code",
   "execution_count": 165,
   "metadata": {},
   "outputs": [],
   "source": [
    "def entropyMain(x,y,z,t):\n",
    "#     transTest = np.linalg.norm(t,axis = 1)\n",
    "    hx = entropyExt(x,2*3.14)\n",
    "    hy = entropyExt(y,2*3.14)\n",
    "    hz = entropyExt(z,2*3.14)\n",
    "    ht = entropyExt(t,maxt)\n",
    "#     print(hx,hy,hz,ht)\n",
    "    return hx,hy,hz,ht\n",
    "\n"
   ]
  },
  {
   "cell_type": "code",
   "execution_count": 166,
   "metadata": {},
   "outputs": [
    {
     "name": "stderr",
     "output_type": "stream",
     "text": [
      "/home/xlwoon/.local/lib/python3.5/site-packages/ipykernel_launcher.py:4: RuntimeWarning: divide by zero encountered in log2\n",
      "  after removing the cwd from sys.path.\n"
     ]
    },
    {
     "name": "stdout",
     "output_type": "stream",
     "text": [
      "5.884406328201294\n",
      "0.12642370435494793 0.5157614643091721 1.026483921635808 [1.61504581 2.16324129 2.33387727]\n"
     ]
    }
   ],
   "source": [
    "if __name__ == \"__main__\":\n",
    "    start = time.time()\n",
    "\n",
    "    seg = []\n",
    "    rgb = []\n",
    "    objects = []\n",
    "    objectpct = []\n",
    "    voxel_size = 0.02\n",
    "    \n",
    "    seg.append(read_point_cloud(\"./seg1.pcd\"))\n",
    "    seg.append(read_point_cloud(\"./seg2.pcd\"))\n",
    "    seg.append(read_point_cloud(\"./seg3.pcd\"))\n",
    "    seg.append(read_point_cloud(\"./seg4.pcd\"))\n",
    "    seg.append(read_point_cloud(\"./seg5.pcd\"))\n",
    "    seg.append(read_point_cloud(\"./seg6.pcd\"))\n",
    "    seg.append(read_point_cloud(\"./seg7.pcd\"))\n",
    "    \n",
    "    rgb.append(read_point_cloud(\"./rgb1.pcd\"))\n",
    "    rgb.append(read_point_cloud(\"./rgb2.pcd\"))\n",
    "    rgb.append(read_point_cloud(\"./rgb3.pcd\"))\n",
    "    rgb.append(read_point_cloud(\"./rgb4.pcd\"))\n",
    "    rgb.append(read_point_cloud(\"./rgb5.pcd\"))\n",
    "    rgb.append(read_point_cloud(\"./rgb6.pcd\"))\n",
    "    rgb.append(read_point_cloud(\"./rgb7.pcd\"))\n",
    "#     seg2 = read_point_cloud(\"./seg2.pcd\")\n",
    "#     seg3 = read_point_cloud(\"./seg3.pcd\")\n",
    "#     seg4 = read_point_cloud(\"./seg4.pcd\")\n",
    "#     seg5 = read_point_cloud(\"./seg5.pcd\")\n",
    "#     seg6 = read_point_cloud(\"./seg6.pcd\")\n",
    "#     seg7 = read_point_cloud(\"./seg7.pcd\")\n",
    "\n",
    "#     rgb1 = read_point_cloud(\"./rgb1.pcd\")\n",
    "#     rgb2 = read_point_cloud(\"./rgb2.pcd\")\n",
    "#     rgb3 = read_point_cloud(\"./rgb3.pcd\")\n",
    "#     rgb4 = read_point_cloud(\"./rgb4.pcd\")\n",
    "#     rgb5 = read_point_cloud(\"./rgb5.pcd\")\n",
    "#     rgb6 = read_point_cloud(\"./rgb6.pcd\")\n",
    "#     rgb7 = read_point_cloud(\"./rgb7.pcd\")\n",
    "#     print(time.time()-start)\n",
    "    label = []\n",
    "    rgbarray = []\n",
    "    \n",
    "    for i in range(len(rgb)):\n",
    "        #list of pcds wrt timestep\n",
    "        seg[i] = voxel_down_sample(seg[i],voxel_size)\n",
    "        rgb[i] = voxel_down_sample(rgb[i],voxel_size)\n",
    "        #list of labels and rgbarray wrt timestep\n",
    "        label.append(iVal(seg[i],rgb[i])[0])\n",
    "#         print(label[0].count(0))\n",
    "        rgbarray.append(iVal(seg[i],rgb[i])[1])\n",
    "        #list wrt timestep of list wrt labels of objects\n",
    "        objects.append(objectList(label[i],rgbarray[i]))\n",
    "        objectpcl = []\n",
    "\n",
    "        for j in range(len(objects[i])):\n",
    "            objectpcl.append(array2PC(np.asarray(objects[i])[j]))\n",
    "        objectpct.append(objectpcl)\n",
    "#     label1,rgbarray1 = iVal(seg[1],rgb[1])\n",
    "\n",
    "#     print(time.time()-start)\n",
    "    objectpc1 = [[] for i in range(len(objects[0]))]\n",
    "    maxt = [[] for i in range(len(objects[0]))]\n",
    "\n",
    "    for i in range(len(objects[0])):\n",
    "        objectpc1[i] = array2PC(np.asarray(objects[0][i]))\n",
    "        maxt[i] = maxTrans(objectpc1[0])\n",
    "#     print(time.time()-start)\n",
    "        \n",
    "#     objects = objectList(label[i],rgbarray[i])\n",
    "\n",
    "#     print(time.time()-start)\n",
    "#     x1,y1,z1,t1 = process1(seg1,seg2,rgb1,rgb2)\n",
    "#     x2,y2,z2,t2 = process1(seg2,seg3,rgb2,rgb3)\n",
    "#     x3,y3,z3,t3 = process1(seg3,seg4,rgb3,rgb4)\n",
    "#     x4,y4,z4,t4 = process1(seg4,seg5,rgb4,rgb5)\n",
    "#     x5,y5,z5,t5 = process1(seg5,seg6,rgb5,rgb6)\n",
    "#     x6,y6,z6,t6 = process1(seg6,seg7,rgb6,rgb7)\n",
    "\n",
    "#     x1,y1,z1,t1 = process1(objectpct[0],objectpct[1])\n",
    "#     x2,y2,z2,t2 = process1(objectpct[1],objectpct[2])\n",
    "#     x3,y3,z3,t3 = process1(objectpct[2],objectpct[3])\n",
    "#     x4,y4,z4,t4 = process1(objectpct[3],objectpct[4])\n",
    "#     x5,y5,z5,t5 = process1(objectpct[4],objectpct[5])\n",
    "#     x6,y6,z6,t6 = process1(objectpct[5],objectpct[6])\n",
    "    x = []\n",
    "    y = []\n",
    "    z = []\n",
    "    t = []\n",
    "    \n",
    "    hx = []\n",
    "    hy = []\n",
    "    hz = []\n",
    "    ht = []\n",
    "    \n",
    "    for i in range(len(rgb)-1):\n",
    "        x1,y2,z2,t2 = process1(objectpct[i],objectpct[i+1])\n",
    "        \n",
    "        x.append(x2)\n",
    "        y.append(y2)\n",
    "        z.append(z2)\n",
    "        t.append(t2)\n",
    "#         x.append(process1(objectpct[i],objectpct[i+1])[0])\n",
    "#         y.append(process1(objectpct[i],objectpct[i+1])[1])\n",
    "#         z.append(process1(objectpct[i],objectpct[i+1])[2])\n",
    "#         t.append(process1(objectpct[i],objectpct[i+1])[3])\n",
    "#         print(time.time()-start)\n",
    "        hx1,hy1,hz1,ht1 = entropyMain(x[i],y[i],z[i],t[i])\n",
    "        \n",
    "        hx.append(hx1)\n",
    "        hy.append(hy1)\n",
    "        hz.append(hz1)\n",
    "        ht.append(ht1)\n",
    "#         print(time.time()-start)\n",
    "\n",
    "# #     print(time.time()-start)\n",
    "#     hx1,hy1,hz1,ht1 = entropyMain(x1,y1,z1,t1)\n",
    "#     hx2,hy2,hz2,ht2 = entropyMain(x2,y2,z2,t2)\n",
    "#     hx3,hy3,hz3,ht3 = entropyMain(x3,y3,z3,t3)\n",
    "#     hx4,hy4,hz4,ht4 = entropyMain(x4,y4,z4,t4)\n",
    "#     hx5,hy5,hz5,ht5 = entropyMain(x5,y5,z5,t5)\n",
    "#     hx6,hy6,hz6,ht6 = entropyMain(x6,y6,z6,t6)\n",
    "#     print(time.time()-start)\n",
    "\n",
    "#     hx = hx1+hx2+hx3+hx4+hx5+hx6\n",
    "#     hy = hy1+hy2+hy3+hy4+hy5+hy6\n",
    "#     hz = hz1+hz2+hz3+hz4+hz5+hz6\n",
    "#     ht = ht1+ht2+ht3+ht4+ht5+ht6\n",
    "\n",
    "    npx = sum(np.asarray(hx))\n",
    "    npy = sum(np.asarray(hy))\n",
    "    npz = sum(np.asarray(hz))\n",
    "    npt = sum(np.asarray(ht))\n",
    "    \n",
    "    print(time.time()-start)\n",
    "    print(npx,npy,npz,npt)"
   ]
  },
  {
   "cell_type": "code",
   "execution_count": 120,
   "metadata": {},
   "outputs": [
    {
     "name": "stdout",
     "output_type": "stream",
     "text": [
      "[-0.014605039038262704, -0.014605039038262704, -0.014605039038262704, -0.014605039038262704, -0.014605039038262704, -0.014605039038262704] [-0.02808003162863751, -0.025915929111337378, -0.0011059005973125893, -0.00960028045098034, -0.0782935903236509, -0.23401512778845124] [-0.028146474126377646, -0.019259832025731033, -0.058490329130157906, -0.047535536059861314, -0.09282903332603958, -0.46578633710659123] [-0.12638550306455498, -0.1255963938175676, -0.06650512326595051, -0.0898568208975275, -0.15121617665368253, -1.0108027186455746]\n"
     ]
    }
   ],
   "source": [
    "print(hx,hy,hz,ht)\n"
   ]
  },
  {
   "cell_type": "code",
   "execution_count": 98,
   "metadata": {},
   "outputs": [],
   "source": [
    "draw_geometries([objectpct[3][6]])"
   ]
  },
  {
   "cell_type": "code",
   "execution_count": 160,
   "metadata": {},
   "outputs": [
    {
     "name": "stdout",
     "output_type": "stream",
     "text": [
      "(8, 3) (8, 3)\n"
     ]
    }
   ],
   "source": [
    "print(np.asarray(maxt).shape,np.asarray(t[0]).shape)"
   ]
  },
  {
   "cell_type": "code",
   "execution_count": 41,
   "metadata": {},
   "outputs": [
    {
     "name": "stdout",
     "output_type": "stream",
     "text": [
      "PointCloud with 306116 points.\n"
     ]
    }
   ],
   "source": [
    "print(seg1)"
   ]
  },
  {
   "cell_type": "code",
   "execution_count": 78,
   "metadata": {},
   "outputs": [
    {
     "name": "stdout",
     "output_type": "stream",
     "text": [
      "PointCloud with 305933 points.\n"
     ]
    }
   ],
   "source": [
    "seg = []\n",
    "rgb = []\n",
    "seg.append(read_point_cloud(\"./seg1.pcd\"))\n",
    "seg.append(read_point_cloud(\"./seg2.pcd\"))\n",
    "seg.append(read_point_cloud(\"./seg3.pcd\"))\n",
    "seg.append(read_point_cloud(\"./seg4.pcd\"))\n",
    "seg.append(read_point_cloud(\"./seg5.pcd\"))\n",
    "seg.append(read_point_cloud(\"./seg6.pcd\"))\n",
    "seg.append(read_point_cloud(\"./seg7.pcd\"))\n",
    "rgb.append(read_point_cloud(\"./rgb1.pcd\"))\n",
    "rgb.append(read_point_cloud(\"./rgb2.pcd\"))\n",
    "rgb.append(read_point_cloud(\"./rgb3.pcd\"))\n",
    "rgb.append(read_point_cloud(\"./rgb4.pcd\"))\n",
    "rgb.append(read_point_cloud(\"./rgb5.pcd\"))\n",
    "rgb.append(read_point_cloud(\"./rgb6.pcd\"))\n",
    "rgb.append(read_point_cloud(\"./rgb7.pcd\"))\n",
    "print(seg[1])"
   ]
  },
  {
   "cell_type": "code",
   "execution_count": null,
   "metadata": {},
   "outputs": [],
   "source": [
    "def process1(seg1,seg2,rgb1,rgb2):    # voxel_size = 0.003 # means 5cm for the dataset\n",
    "\n",
    "    label1,rgbArray1 = iVal(seg1,rgb1)\n",
    "    label2,rgbArray2 = iVal(seg2,rgb2)\n",
    "\n",
    "    start2 = time.time()\n",
    "    objectst1 = objectList(label1,rgbArray1)\n",
    "    objectst2 = objectList(label2,rgbArray2)\n",
    "    print(\"objectGen \",time.time()-start2)\n",
    "    objectst1PC = [[] for i in range(len(objectst1))]\n",
    "    objectst2PC = [[] for i in range(len(objectst2))]\n",
    "    x = [[] for i in range(len(objectst1))]\n",
    "    y = [[] for i in range(len(objectst1))]\n",
    "    z = [[] for i in range(len(objectst1))]\n",
    "    t = [[] for i in range(len(objectst1))]\n",
    "    print(\"new\")\n",
    "    start1 = time.time()\n",
    "    for i in range(len(objectst1)):\n",
    "        print(i)\n",
    "#         start1 = time.time()\n",
    "        objectst1PC[i].append(array2PC(objectst1[i]))\n",
    "    # for i in range(len(objectst2)):\n",
    "        objectst2PC[i].append(array2PC(objectst2[i]))\n",
    "        print(time.time()-start1)\n",
    "#         print(np.asarray(objectst2PC[i]))\n",
    "        _,x[i],y[i],z[i],t[i] = base(voxel_size,objectst1PC[i][0],objectst2PC[i][0])\n",
    "        print(time.time()-start1)\n",
    "#         print(time.time()-start)\n",
    "    return x,y,z,t\n",
    "\n"
   ]
  },
  {
   "cell_type": "code",
   "execution_count": 86,
   "metadata": {},
   "outputs": [],
   "source": [
    "a = []\n",
    "b = []\n",
    "\n",
    "for i in range(len(seg)):\n",
    "    a.append(iVal(seg[i],rgb[i])[0])\n",
    "    b.append(iVal(seg[i],rgb[i])[1])"
   ]
  },
  {
   "cell_type": "code",
   "execution_count": 88,
   "metadata": {},
   "outputs": [
    {
     "name": "stdout",
     "output_type": "stream",
     "text": [
      "[array([[ 0.69803922,  0.59215686,  0.47058824, -1.20810199,  1.20810199,\n",
      "        -2.64824033],\n",
      "       [ 0.70588235,  0.60784314,  0.4745098 , -1.20305777,  1.20810199,\n",
      "        -2.64824033],\n",
      "       [ 0.70980392,  0.60392157,  0.47843137, -1.19801342,  1.20810199,\n",
      "        -2.64824033],\n",
      "       ...,\n",
      "       [ 0.42352941,  0.59607843,  0.85490196,  0.63946426, -0.48236755,\n",
      "        -1.05738187],\n",
      "       [ 0.42745098,  0.59607843,  0.85882353,  0.64143687, -0.48233637,\n",
      "        -1.05731356],\n",
      "       [ 0.42745098,  0.6       ,  0.85882353,  0.64341968, -0.48231304,\n",
      "        -1.05726242]]), array([[ 0.69803922,  0.59215686,  0.47058824, -1.20810199,  1.20810199,\n",
      "        -2.64824033],\n",
      "       [ 0.70588235,  0.60784314,  0.4745098 , -1.20305777,  1.20810199,\n",
      "        -2.64824033],\n",
      "       [ 0.70980392,  0.60392157,  0.47843137, -1.19801342,  1.20810199,\n",
      "        -2.64824033],\n",
      "       ...,\n",
      "       [ 0.43921569,  0.61568627,  0.88235294,  0.64682692, -0.48792142,\n",
      "        -1.06955636],\n",
      "       [ 0.43921569,  0.61960784,  0.88627451,  0.64886951, -0.48792544,\n",
      "        -1.06956518],\n",
      "       [ 0.43921569,  0.61960784,  0.88627451,  0.6510343 , -0.48802099,\n",
      "        -1.06977463]]), array([[ 0.69803922,  0.59215686,  0.47058824, -1.20810199,  1.20810199,\n",
      "        -2.64824033],\n",
      "       [ 0.70588235,  0.60784314,  0.4745098 , -1.20305777,  1.20810199,\n",
      "        -2.64824033],\n",
      "       [ 0.70980392,  0.60392157,  0.47843137, -1.19801342,  1.20810199,\n",
      "        -2.64824033],\n",
      "       ...,\n",
      "       [ 0.47843137,  0.67058824,  0.96078431,  0.65420461, -0.49348661,\n",
      "        -1.08175564],\n",
      "       [ 0.47843137,  0.67058824,  0.96078431,  0.65627587, -0.49349472,\n",
      "        -1.0817734 ],\n",
      "       [ 0.47843137,  0.67058824,  0.96078431,  0.65841794, -0.49355584,\n",
      "        -1.08190739]]), array([[ 0.69803922,  0.59215686,  0.47058824, -1.20810199,  1.20810199,\n",
      "        -2.64824033],\n",
      "       [ 0.70588235,  0.60784314,  0.4745098 , -1.20305777,  1.20810199,\n",
      "        -2.64824033],\n",
      "       [ 0.70980392,  0.60392157,  0.47843137, -1.19801342,  1.20810199,\n",
      "        -2.64824033],\n",
      "       ...,\n",
      "       [ 0.48235294,  0.67843137,  0.97254902,  0.65520495, -0.49424124,\n",
      "        -1.08340979],\n",
      "       [ 0.48235294,  0.67843137,  0.97254902,  0.65731752, -0.49427798,\n",
      "        -1.08349037],\n",
      "       [ 0.48235294,  0.67843137,  0.97254902,  0.65947944, -0.49435157,\n",
      "        -1.08365166]]), array([[ 0.69803922,  0.59215686,  0.47058824, -1.20810199,  1.20810199,\n",
      "        -2.64824033],\n",
      "       [ 0.70588235,  0.60784314,  0.4745098 , -1.20305777,  1.20810199,\n",
      "        -2.64824033],\n",
      "       [ 0.70980392,  0.60392157,  0.47843137, -1.19801342,  1.20810199,\n",
      "        -2.64824033],\n",
      "       ...,\n",
      "       [ 0.49019608,  0.68627451,  0.98431373,  0.658077  , -0.49640769,\n",
      "        -1.08815885],\n",
      "       [ 0.49019608,  0.68627451,  0.98431373,  0.66014969, -0.49640769,\n",
      "        -1.08815885],\n",
      "       [ 0.49019608,  0.68627451,  0.98431373,  0.66222239, -0.49640769,\n",
      "        -1.08815885]]), array([[ 0.69803922,  0.59215686,  0.47058824, -1.20810199,  1.20810199,\n",
      "        -2.64824033],\n",
      "       [ 0.70588235,  0.60784314,  0.4745098 , -1.20305777,  1.20810199,\n",
      "        -2.64824033],\n",
      "       [ 0.70980392,  0.60392157,  0.47843137, -1.19801342,  1.20810199,\n",
      "        -2.64824033],\n",
      "       ...,\n",
      "       [ 0.49019608,  0.68627451,  0.98431373,  0.65947318, -0.49746087,\n",
      "        -1.09046745],\n",
      "       [ 0.49019608,  0.69019608,  0.98823529,  0.66154474, -0.49745673,\n",
      "        -1.09045839],\n",
      "       [ 0.49019608,  0.69019608,  0.98823529,  0.66362733, -0.49746087,\n",
      "        -1.09046745]]), array([[ 0.69803922,  0.59215686,  0.47058824, -1.20810199,  1.20810199,\n",
      "        -2.64824033],\n",
      "       [ 0.70588235,  0.60784314,  0.4745098 , -1.20305777,  1.20810199,\n",
      "        -2.64824033],\n",
      "       [ 0.70980392,  0.60392157,  0.47843137, -1.19801342,  1.20810199,\n",
      "        -2.64824033],\n",
      "       ...,\n",
      "       [ 0.43137255,  0.60784314,  0.87058824,  0.63315618, -0.47760916,\n",
      "        -1.04695117],\n",
      "       [ 0.43529412,  0.60784314,  0.8745098 ,  0.63508946, -0.47756335,\n",
      "        -1.0468508 ],\n",
      "       [ 0.43529412,  0.61176471,  0.87843137,  0.63701224, -0.47750998,\n",
      "        -1.04673374]])]\n"
     ]
    }
   ],
   "source": [
    "print(b)"
   ]
  },
  {
   "cell_type": "code",
   "execution_count": 214,
   "metadata": {},
   "outputs": [],
   "source": [
    "draw_geometries([rgb[-1]])"
   ]
  },
  {
   "cell_type": "code",
   "execution_count": 84,
   "metadata": {},
   "outputs": [
    {
     "name": "stdout",
     "output_type": "stream",
     "text": [
      "[array([ 0.37647059,  0.37647059,  0.37647059,  0.14143197,  0.69841146,\n",
      "       -1.53096461]), array([ 0.35686275,  0.35686275,  0.35686275,  0.14440376,  0.69868076,\n",
      "       -1.53155494]), array([ 0.35686275,  0.35686275,  0.35686275,  0.14737783,  0.69895029,\n",
      "       -1.53214574]), array([ 0.35686275,  0.35686275,  0.35686275,  0.1502523 ,  0.69874609,\n",
      "       -1.53169811]), array([ 0.35686275,  0.35686275,  0.35686275,  0.15309824,  0.69841957,\n",
      "       -1.53098238]), array([ 0.35686275,  0.35686275,  0.35686275,  0.15587057,  0.69777572,\n",
      "       -1.52957106]), array([ 0.41960784,  0.41960784,  0.41960784,  0.15722631,  0.69093031,\n",
      "       -1.51456535]), array([ 0.46666667,  0.46666667,  0.46666667,  0.15995409,  0.6902523 ,\n",
      "       -1.51307917]), array([ 0.48627451,  0.48627451,  0.48627451,  0.16267465,  0.68956774,\n",
      "       -1.51157856])]\n"
     ]
    }
   ],
   "source": [
    "l1,r1 = iVal(seg[1],rgb[1])\n",
    "o = objectList(l1,r1)\n",
    "print(o[1][1:10])"
   ]
  },
  {
   "cell_type": "code",
   "execution_count": 88,
   "metadata": {},
   "outputs": [
    {
     "name": "stdout",
     "output_type": "stream",
     "text": [
      "0.403921568627451\n"
     ]
    }
   ],
   "source": [
    "o1 = array2PC(np.asarray(o[0]))\n",
    "print(np.amin(np.asarray(o1.points)))"
   ]
  },
  {
   "cell_type": "code",
   "execution_count": 75,
   "metadata": {},
   "outputs": [],
   "source": [
    "draw_geometries([o1])"
   ]
  },
  {
   "cell_type": "code",
   "execution_count": 60,
   "metadata": {},
   "outputs": [],
   "source": [
    "draw_geometries([seg[1]])"
   ]
  },
  {
   "cell_type": "code",
   "execution_count": 64,
   "metadata": {},
   "outputs": [
    {
     "name": "stdout",
     "output_type": "stream",
     "text": [
      "(87197, 6)\n"
     ]
    }
   ],
   "source": [
    "print(rgbarray[1].shape)"
   ]
  },
  {
   "cell_type": "code",
   "execution_count": null,
   "metadata": {},
   "outputs": [],
   "source": []
  }
 ],
 "metadata": {
  "kernelspec": {
   "display_name": "Python 3",
   "language": "python",
   "name": "python3"
  },
  "language_info": {
   "codemirror_mode": {
    "name": "ipython",
    "version": 3
   },
   "file_extension": ".py",
   "mimetype": "text/x-python",
   "name": "python",
   "nbconvert_exporter": "python",
   "pygments_lexer": "ipython3",
   "version": "3.5.2"
  }
 },
 "nbformat": 4,
 "nbformat_minor": 2
}

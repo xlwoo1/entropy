{
 "cells": [
  {
   "cell_type": "code",
   "execution_count": 69,
   "metadata": {},
   "outputs": [],
   "source": [
    "from open3d import *\n",
    "import numpy as np\n",
    "import matplotlib.pyplot as plt\n",
    "\n",
    "seg = read_point_cloud(\"./seg2.pcd\")\n",
    "label = np.asarray(seg.colors)*255/16\n"
   ]
  },
  {
   "cell_type": "code",
   "execution_count": 104,
   "metadata": {},
   "outputs": [
    {
     "name": "stdout",
     "output_type": "stream",
     "text": [
      "[[], [], [], [], [], [], [], []]\n"
     ]
    }
   ],
   "source": [
    "def objectList(rgb,label):\n",
    "\n",
    "    rgb = read_point_cloud(\"./rgb2.pcd\")\n",
    "\n",
    "    rgbcolor = np.asarray(rgb.colors)\n",
    "    rgbpoints = np.asarray(rgb.points)\n",
    "    rgbarray = np.concatenate((rgbcolor,rgbpoints),axis = 1)\n",
    "\n",
    "    # print(np.unique(npseg))\n",
    "    labelcount = np.unique(label).astype(\"uint8\")\n",
    "\n",
    "    newset = [[] for i in range(0, len(labelcount))]\n",
    "    print(newset)\n",
    "\n",
    "    for id1,pixels in enumerate(npseg):\n",
    "    #     print(pixels)\n",
    "        for i in range(len(segseg)):\n",
    "            if pixels[0] == i+1:\n",
    "                newset[i].append(rgbarray[id1])\n",
    "                \n",
    "    return(newset)\n"
   ]
  },
  {
   "cell_type": "code",
   "execution_count": 108,
   "metadata": {},
   "outputs": [
    {
     "name": "stdout",
     "output_type": "stream",
     "text": [
      "[[ 0.39607843  0.39607843  0.39607843  0.13846084  0.69813418 -1.53035676]\n",
      " [ 0.37647059  0.37647059  0.37647059  0.14143197  0.69841146 -1.53096461]\n",
      " [ 0.35686275  0.35686275  0.35686275  0.14440376  0.69868076 -1.53155494]\n",
      " ...\n",
      " [ 0.43921569  0.61568627  0.88235294  0.64682692 -0.48792142 -1.06955636]\n",
      " [ 0.43921569  0.61960784  0.88627451  0.64886951 -0.48792544 -1.06956518]\n",
      " [ 0.43921569  0.61960784  0.88627451  0.6510343  -0.48802099 -1.06977463]]\n",
      "[[ 0.19607843  0.19215686  0.18431373  0.21412905  1.05712128 -2.36668944]\n",
      " [ 0.18431373  0.18431373  0.18039216  0.2184753   1.05633926 -2.36493874]\n",
      " [ 0.18039216  0.18431373  0.17254902  0.2228151   1.05555844 -2.36319041]\n",
      " ...\n",
      " [ 0.23529412  0.23529412  0.22352941 -0.30846748 -0.81633103 -1.7894522 ]\n",
      " [ 0.22352941  0.22745098  0.21568627 -0.30512145 -0.81649822 -1.78981864]\n",
      " [ 0.23137255  0.23529412  0.21960784 -0.30177408 -0.81666547 -1.79018533]]\n"
     ]
    }
   ],
   "source": [
    "\n"
   ]
  },
  {
   "cell_type": "code",
   "execution_count": 109,
   "metadata": {},
   "outputs": [
    {
     "name": "stdout",
     "output_type": "stream",
     "text": [
      "[[[239. 239. 239.   0.]\n",
      "  [239. 239. 239.   0.]\n",
      "  [239. 239. 239.   0.]\n",
      "  ...\n",
      "  [221.  93.   8.   2.]\n",
      "  [222.  94.   8.   2.]\n",
      "  [222.  94.   8.   2.]]\n",
      "\n",
      " [[223.  94.   8.   2.]\n",
      "  [224.  94.   8.   2.]\n",
      "  [224.  95.   8.   2.]\n",
      "  ...\n",
      "  [ 91.  91.  91.   2.]\n",
      "  [ 96.  96.  96.   2.]\n",
      "  [ 97.  97.  97.   2.]]\n",
      "\n",
      " [[ 96.  96.  96.   2.]\n",
      "  [ 93.  93.  93.   2.]\n",
      "  [ 91.  91.  91.   2.]\n",
      "  ...\n",
      "  [190. 163. 132.   1.]\n",
      "  [194. 165. 136.   1.]\n",
      "  [194. 167. 136.   1.]]\n",
      "\n",
      " ...\n",
      "\n",
      " [[201. 179. 146.   1.]\n",
      "  [202. 181. 149.   1.]\n",
      "  [202. 182. 150.   1.]\n",
      "  ...\n",
      "  [194. 173. 143.   1.]\n",
      "  [194. 172. 143.   1.]\n",
      "  [191. 171. 141.   1.]]\n",
      "\n",
      " [[191. 171. 141.   1.]\n",
      "  [191. 171. 142.   1.]\n",
      "  [192. 172. 144.   1.]\n",
      "  ...\n",
      "  [ 29.  29.  28.   3.]\n",
      "  [ 28.  28.  27.   3.]\n",
      "  [ 31.  31.  30.   3.]]\n",
      "\n",
      " [[ 28.  28.  28.   3.]\n",
      "  [ 28.  28.  28.   3.]\n",
      "  [ 30.  30.  28.   3.]\n",
      "  ...\n",
      "  [110. 155. 222.   2.]\n",
      "  [110. 155. 222.   2.]\n",
      "  [110. 154. 221.   2.]]]\n"
     ]
    }
   ],
   "source": [
    "rgbimg1 = np.reshape(rgb1, (640,480,3))\n",
    "segimg1 = np.reshape(seg1,(640,480))\n",
    "\n",
    "newmat = np.zeros([640,480,4])\n",
    "\n",
    "# print(rgbimg1)\n",
    "# enumerate(rgbimg1)\n",
    "for id1,rows in enumerate(rgbimg1):\n",
    "    for id2,pixels in enumerate(rows):\n",
    "        newmat[id1,id2,:] = np.append(pixels,segimg1[id1,id2])\n",
    "#         print(pixels)\n",
    "        \n",
    "    \n",
    "print(newmat)\n",
    "        # print(newmat)"
   ]
  },
  {
   "cell_type": "code",
   "execution_count": null,
   "metadata": {},
   "outputs": [],
   "source": []
  }
 ],
 "metadata": {
  "kernelspec": {
   "display_name": "Python 3",
   "language": "python",
   "name": "python3"
  },
  "language_info": {
   "codemirror_mode": {
    "name": "ipython",
    "version": 3
   },
   "file_extension": ".py",
   "mimetype": "text/x-python",
   "name": "python",
   "nbconvert_exporter": "python",
   "pygments_lexer": "ipython3",
   "version": "3.5.2"
  }
 },
 "nbformat": 4,
 "nbformat_minor": 2
}

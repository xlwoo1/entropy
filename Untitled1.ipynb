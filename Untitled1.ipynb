{
 "cells": [
  {
   "cell_type": "code",
   "execution_count": 171,
   "metadata": {},
   "outputs": [],
   "source": [
    "from open3d import *\n",
    "import numpy as np\n",
    "import matplotlib.pyplot as plt\n",
    "import time\n",
    "\n",
    "rgb = read_point_cloud(\"./rgb2.pcd\")\n",
    "seg = read_point_cloud(\"./seg2.pcd\")\n",
    "label = (np.asarray(seg.colors)[:,0]*255/16).astype(\"uint8\")\n",
    "\n",
    "rgb1 = read_point_cloud(\"./rgb6.pcd\")\n",
    "seg1 = read_point_cloud(\"./seg6.pcd\")\n",
    "label1 = (np.asarray(seg1.colors)[:,0]*255/16).astype(\"uint8\")\n"
   ]
  },
  {
   "cell_type": "code",
   "execution_count": 172,
   "metadata": {},
   "outputs": [],
   "source": [
    "def objectList(rgb,label):\n",
    "\n",
    "    start = time.time()\n",
    "    rgbcolor = np.asarray(rgb.colors)\n",
    "    rgbpoints = np.asarray(rgb.points)\n",
    "    rgbarray = np.concatenate((rgbcolor,rgbpoints),axis = 1)\n",
    "\n",
    "    labelcount = np.unique(label).astype(\"uint8\")\n",
    "    print(labelcount)\n",
    "    newset = [[] for i in range( len(labelcount))]\n",
    "    print(time.time()-start)\n",
    "    for id1,pixels in enumerate(label):\n",
    "\n",
    "        newset[pixels-1].append(rgbarray[id1])\n",
    "\n",
    "                \n",
    "    print(time.time()-start)            \n",
    "    return newset\n"
   ]
  },
  {
   "cell_type": "code",
   "execution_count": 173,
   "metadata": {},
   "outputs": [
    {
     "name": "stdout",
     "output_type": "stream",
     "text": [
      "[1 2 3 4 5 6 7 8]\n",
      "0.007173061370849609\n",
      "0.5590982437133789\n",
      "[1 2 3 4 5 6 7 8]\n",
      "0.005774021148681641\n",
      "0.619312047958374\n"
     ]
    }
   ],
   "source": [
    "# start = time.time()\n",
    "\n",
    "list1 = objectList(rgb,label)\n",
    "\n",
    "# print(time.time()-start)\n",
    "list2 = objectList(rgb1,label1)\n",
    "# print(list1[5])"
   ]
  },
  {
   "cell_type": "code",
   "execution_count": 109,
   "metadata": {},
   "outputs": [
    {
     "name": "stdout",
     "output_type": "stream",
     "text": [
      "[[[239. 239. 239.   0.]\n",
      "  [239. 239. 239.   0.]\n",
      "  [239. 239. 239.   0.]\n",
      "  ...\n",
      "  [221.  93.   8.   2.]\n",
      "  [222.  94.   8.   2.]\n",
      "  [222.  94.   8.   2.]]\n",
      "\n",
      " [[223.  94.   8.   2.]\n",
      "  [224.  94.   8.   2.]\n",
      "  [224.  95.   8.   2.]\n",
      "  ...\n",
      "  [ 91.  91.  91.   2.]\n",
      "  [ 96.  96.  96.   2.]\n",
      "  [ 97.  97.  97.   2.]]\n",
      "\n",
      " [[ 96.  96.  96.   2.]\n",
      "  [ 93.  93.  93.   2.]\n",
      "  [ 91.  91.  91.   2.]\n",
      "  ...\n",
      "  [190. 163. 132.   1.]\n",
      "  [194. 165. 136.   1.]\n",
      "  [194. 167. 136.   1.]]\n",
      "\n",
      " ...\n",
      "\n",
      " [[201. 179. 146.   1.]\n",
      "  [202. 181. 149.   1.]\n",
      "  [202. 182. 150.   1.]\n",
      "  ...\n",
      "  [194. 173. 143.   1.]\n",
      "  [194. 172. 143.   1.]\n",
      "  [191. 171. 141.   1.]]\n",
      "\n",
      " [[191. 171. 141.   1.]\n",
      "  [191. 171. 142.   1.]\n",
      "  [192. 172. 144.   1.]\n",
      "  ...\n",
      "  [ 29.  29.  28.   3.]\n",
      "  [ 28.  28.  27.   3.]\n",
      "  [ 31.  31.  30.   3.]]\n",
      "\n",
      " [[ 28.  28.  28.   3.]\n",
      "  [ 28.  28.  28.   3.]\n",
      "  [ 30.  30.  28.   3.]\n",
      "  ...\n",
      "  [110. 155. 222.   2.]\n",
      "  [110. 155. 222.   2.]\n",
      "  [110. 154. 221.   2.]]]\n"
     ]
    }
   ],
   "source": [
    "rgbimg1 = np.reshape(rgb1, (640,480,3))\n",
    "segimg1 = np.reshape(seg1,(640,480))\n",
    "\n",
    "newmat = np.zeros([640,480,4])\n",
    "\n",
    "# print(rgbimg1)\n",
    "# enumerate(rgbimg1)\n",
    "for id1,rows in enumerate(rgbimg1):\n",
    "    for id2,pixels in enumerate(rows):\n",
    "        newmat[id1,id2,:] = np.append(pixels,segimg1[id1,id2])\n",
    "#         print(pixels)\n",
    "        \n",
    "    \n",
    "print(newmat)\n",
    "        # print(newmat)"
   ]
  },
  {
   "cell_type": "code",
   "execution_count": 164,
   "metadata": {},
   "outputs": [
    {
     "name": "stdout",
     "output_type": "stream",
     "text": [
      "[[ 0.07058824  0.17647059  0.30588235  0.39701113  0.09976178 -2.13775229]\n",
      " [ 0.0745098   0.18823529  0.3254902   0.40056041  0.09963178 -2.13496661]\n",
      " [ 0.0745098   0.18823529  0.3254902   0.40420559  0.09952801 -2.13274312]\n",
      " ...\n",
      " [ 0.08235294  0.20392157  0.35294118  0.35615847 -0.21369508 -2.13695073]\n",
      " [ 0.05882353  0.14117647  0.24313725  0.34818229 -0.21786845 -2.13796139]\n",
      " [ 0.08235294  0.20392157  0.35294118  0.35199049 -0.2177051  -2.1363585 ]]\n"
     ]
    }
   ],
   "source": [
    "print(np.asarray(list1[5]))\n"
   ]
  },
  {
   "cell_type": "code",
   "execution_count": 146,
   "metadata": {},
   "outputs": [
    {
     "name": "stdout",
     "output_type": "stream",
     "text": [
      "(299598, 3) (299598, 3)\n"
     ]
    }
   ],
   "source": [
    "print(np.asarray(seg1.colors).shape,np.asarray(rgb1.colors).shape)"
   ]
  },
  {
   "cell_type": "code",
   "execution_count": 165,
   "metadata": {},
   "outputs": [
    {
     "name": "stdout",
     "output_type": "stream",
     "text": [
      "8\n"
     ]
    }
   ],
   "source": [
    "print(len(list1))"
   ]
  },
  {
   "cell_type": "code",
   "execution_count": 168,
   "metadata": {},
   "outputs": [
    {
     "data": {
      "text/plain": [
       "array([ 45234.05882352,  27945.3372549 ,  19048.43137254,  30430.33032966,\n",
       "         5187.8045005 , -69897.32235283])"
      ]
     },
     "execution_count": 168,
     "metadata": {},
     "output_type": "execute_result"
    }
   ],
   "source": [
    "sum(list1[1])"
   ]
  },
  {
   "cell_type": "code",
   "execution_count": null,
   "metadata": {},
   "outputs": [],
   "source": [
    "\n",
    "\n",
    "\n"
   ]
  }
 ],
 "metadata": {
  "kernelspec": {
   "display_name": "Python 3",
   "language": "python",
   "name": "python3"
  },
  "language_info": {
   "codemirror_mode": {
    "name": "ipython",
    "version": 3
   },
   "file_extension": ".py",
   "mimetype": "text/x-python",
   "name": "python",
   "nbconvert_exporter": "python",
   "pygments_lexer": "ipython3",
   "version": "3.5.2"
  }
 },
 "nbformat": 4,
 "nbformat_minor": 2
}
